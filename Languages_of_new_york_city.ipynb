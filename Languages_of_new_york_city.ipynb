{
  "nbformat": 4,
  "nbformat_minor": 0,
  "metadata": {
    "colab": {
      "provenance": []
    },
    "kernelspec": {
      "name": "python3",
      "display_name": "Python 3"
    },
    "language_info": {
      "name": "python"
    }
  },
  "cells": [
    {
      "cell_type": "markdown",
      "source": [
        "# **Klasifikasi Keanekaragaman penggunaan bahasa pada kota New York**"
      ],
      "metadata": {
        "id": "sNK5PYUKBQqH"
      }
    },
    {
      "cell_type": "markdown",
      "source": [
        "# Bussines Understanding"
      ],
      "metadata": {
        "id": "nsOKOd-5BxUK"
      }
    },
    {
      "cell_type": "markdown",
      "source": [
        "**Bussiness Objective**\n",
        "\n",
        "Tujuan dari dataset tersebut adalah mempromosikan dan melestarikan keanekaragaman bahasa di New York City. Fokus utamanya adalah mendukung revitalisasi bahasa-bahasa yang sudah terancam punah, termasuk Lenape, serta membangun keterlibatan komunitas melalui acara dan platform yang mendorong pertukaran budaya. Selain itu, tujuannya juga mencakup meningkatkan kesadaran publik tentang kekayaan warisan bahasa di kota ini, berkolaborasi dengan pemerintah setempat untuk integrasi kebijakan pro-keanekaragaman bahasa, dan mendukung riset serta pendidikan terkait keberagaman bahasa. Secara keseluruhan, dataset ini bertujuan menciptakan lingkungan yang mendukung dan menghargai keberagaman bahasa di tengah masyarakat New York City yang hyperdiverse."
      ],
      "metadata": {
        "id": "ue_uNJHSC-jA"
      }
    },
    {
      "cell_type": "markdown",
      "source": [
        "**Assess Situation**\n",
        "\n",
        "situasi yang diidentifikasi adalah tingkat keanekaragaman bahasa yang sangat tinggi di New York City. Data mencatat bahwa sekitar 10 persen dari total bahasa yang ada di dunia digunakan di kota ini, menjadikannya salah satu pusat urban paling beragam secara linguistik di dunia. Selain itu, dataset juga menyoroti upaya-upaya, seperti yang dilakukan oleh Endangered Language Alliance, untuk bekerja dengan penutur bahasa asli dalam melestarikan dan merangsang bahasa-bahasa terancam punah, termasuk Lenape. Kesadaran akan kekayaan warisan bahasa dan upaya untuk mempertahankannya merupakan aspek penting dari situasi yang dihadapi oleh masyarakat New York City."
      ],
      "metadata": {
        "id": "e2-8hV38FEwi"
      }
    },
    {
      "cell_type": "markdown",
      "source": [
        "**Data Mining Goals**\n",
        "\n",
        "Dalam upaya klasifikasi keanekaragaman penggunaan bahasa di Kota New York, tujuan data mining melibatkan identifikasi bahasa-bahasa yang terancam punah, analisis perubahan linguistik sepanjang waktu dari era pra-kontak hingga abad ke-21, pemetaan distribusi geografis bahasa untuk memahami sebaran komunitas berbahasa, eksplorasi hubungan antara bahasa dan pola migrasi penduduk, pengembangan strategi perlindungan untuk bahasa-bahasa terancam punah, penemuan bahasa-bahasa unik di Kota New York, evaluasi dampak multilingualisme pada tingkat individu, serta memberikan rekomendasi kebijakan bahasa untuk mendukung dan mempertahankan keanekaragaman bahasa di tengah tekanan beralih ke bahasa-bahasa dunia yang semakin populer. Analisis data ini diharapkan memberikan wawasan mendalam terkait keanekaragaman linguistik yang kaya di kota ini."
      ],
      "metadata": {
        "id": "G7313sEuCSHo"
      }
    },
    {
      "cell_type": "markdown",
      "source": [
        "**Project plan**\n",
        "\n",
        "Rencana proyek ini bertujuan untuk melakukan analisis klasifikasi pada dataset linguistik yang fokus pada keanekaragaman penggunaan bahasa di Kota New York. Dengan menggunakan metode data mining, saya akan mengidentifikasi bahasa-bahasa yang terancam punah. Selain itu, proyek ini akan difokuskan pada penemuan bahasa-bahasa unik di Kota New York, evaluasi dampak multilingualisme pada tingkat individu, dan menyusun rekomendasi kebijakan bahasa guna mendukung dan mempertahankan keanekaragaman bahasa di tengah tekanan beralih ke bahasa-bahasa dunia yang semakin populer."
      ],
      "metadata": {
        "id": "o4-Yy6qTcKC2"
      }
    }
  ]
}